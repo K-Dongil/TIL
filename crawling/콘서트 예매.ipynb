{
 "cells": [
  {
   "cell_type": "code",
   "execution_count": 1,
   "id": "19d68104",
   "metadata": {},
   "outputs": [],
   "source": [
    "from selenium import webdriver as wb #webdriver는 웹을 통제하기 위한 모듈\n",
    "from selenium.webdriver.common.keys import Keys #Keys는 웹을 제어하면서 값을 입력하기 위한 모듈\n",
    "import time"
   ]
  },
  {
   "cell_type": "code",
   "execution_count": 2,
   "id": "6cd18601",
   "metadata": {},
   "outputs": [],
   "source": [
    "# 나훈아 콘서트\n",
    "driver =wb.Chrome() #실행시키면 크롬 빈창이 나옴\n",
    "url = \"http://ticket.yes24.com/Special/42353\"\n",
    "driver.get(url)"
   ]
  },
  {
   "cell_type": "code",
   "execution_count": 3,
   "id": "acc1706a",
   "metadata": {},
   "outputs": [
    {
     "name": "stdout",
     "output_type": "stream",
     "text": [
      "빠져나옴\n"
     ]
    }
   ],
   "source": [
    "stop = True\n",
    "while stop:\n",
    "    try:\n",
    "        ready = driver.find_element_by_css_selector('#divNoticeTicketOpen')\n",
    "        driver.refresh() # 새로고침\n",
    "    except:\n",
    "        stop = False\n",
    "        next_btn1 = driver.find_element_by_css_selector('#mainForm > div.renew-wrap.rw2 > div > div.rn-05 > a.rn-bb03')\n",
    "        next_btn1.click()\n",
    "        \n",
    "        driver.switch_to.window(driver.window_handles[1])\n",
    "        \n",
    "        date_btn = driver.find_element_by_id('2022-07-16')\n",
    "        date_btn.click()\n",
    "        \n",
    "        time_btn = driver.find_element_by_css_selector('#ulTime > li:nth-child(1)')\n",
    "        time_btn.click()\n",
    "        \n",
    "        next_btn2 = driver.find_element_by_id('btnSeatSelect')\n",
    "        next_btn2.click()\n",
    "        \n",
    "        driver.switch_to.frame('ifrmSeatFrame') # iframe 전환\n",
    "        \n",
    "        area = driver.find_elements_by_id('area0')[1] # 나구역\n",
    "        area.click()"
   ]
  },
  {
   "cell_type": "code",
   "execution_count": 272,
   "id": "ae38cfad",
   "metadata": {},
   "outputs": [],
   "source": [
    "next_btn1 = driver.find_element_by_css_selector('#mainForm > div.renew-wrap.rw2 > div > div.rn-05 > a.rn-bb03')\n",
    "next_btn1.click()"
   ]
  },
  {
   "cell_type": "code",
   "execution_count": 275,
   "id": "9bbe81c8",
   "metadata": {},
   "outputs": [],
   "source": [
    "driver.switch_to.window(driver.window_handles[1])\n",
    "# driver.current_url : 현재 주소"
   ]
  },
  {
   "cell_type": "code",
   "execution_count": 276,
   "id": "76112330",
   "metadata": {},
   "outputs": [],
   "source": [
    "date_btn = driver.find_element_by_id('2022-07-16')\n",
    "date_btn.click()"
   ]
  },
  {
   "cell_type": "code",
   "execution_count": 277,
   "id": "a2b01188",
   "metadata": {},
   "outputs": [],
   "source": [
    "time_btn = driver.find_element_by_css_selector('#ulTime > li:nth-child(1)')\n",
    "time_btn.click()"
   ]
  },
  {
   "cell_type": "code",
   "execution_count": 278,
   "id": "b40851f9",
   "metadata": {},
   "outputs": [],
   "source": [
    "next_btn2 = driver.find_element_by_id('btnSeatSelect')\n",
    "next_btn2.click()"
   ]
  },
  {
   "cell_type": "code",
   "execution_count": 279,
   "id": "d8cd1e30",
   "metadata": {},
   "outputs": [],
   "source": [
    "driver.switch_to.frame('ifrmSeatFrame') # iframe 전환"
   ]
  },
  {
   "cell_type": "code",
   "execution_count": 269,
   "id": "02f0e785",
   "metadata": {},
   "outputs": [],
   "source": [
    "area = driver.find_elements_by_id('area0')[1] # 나구역\n",
    "area.click()"
   ]
  },
  {
   "cell_type": "code",
   "execution_count": 280,
   "id": "91c41d6e",
   "metadata": {},
   "outputs": [],
   "source": [
    "seats = ['t2100077', 't2100078'] # 변하게 되면 일일이 수작업\n",
    "for seat in seats:\n",
    "    seat_btn = driver.find_element_by_id(seat)\n",
    "    seat_btn.click()"
   ]
  },
  {
   "cell_type": "code",
   "execution_count": 281,
   "id": "32f61512",
   "metadata": {},
   "outputs": [],
   "source": [
    "next_btn3 = driver.find_element_by_css_selector('.booking')\n",
    "next_btn3.click()"
   ]
  },
  {
   "cell_type": "code",
   "execution_count": 282,
   "id": "ab145ceb",
   "metadata": {},
   "outputs": [],
   "source": [
    "driver.switch_to.window(driver.window_handles[1])\n",
    "# driver.current_url : 현재 주소"
   ]
  },
  {
   "cell_type": "code",
   "execution_count": 283,
   "id": "ee31bf1d",
   "metadata": {
    "scrolled": true
   },
   "outputs": [],
   "source": [
    "next_btn4 = driver.find_element_by_css_selector('#StepCtrlBtn03 > a:nth-child(2)')\n",
    "next_btn4.click()"
   ]
  },
  {
   "cell_type": "code",
   "execution_count": 284,
   "id": "010a4c6b",
   "metadata": {},
   "outputs": [],
   "source": [
    "middle_phone = driver.find_element_by_id('ordererMobile2')\n",
    "middle_phone.send_keys(\"4903\")\n",
    "last_phone = driver.find_element_by_id('ordererMobile3')\n",
    "last_phone.send_keys(\"7595\")"
   ]
  },
  {
   "cell_type": "code",
   "execution_count": 285,
   "id": "1848cdca",
   "metadata": {},
   "outputs": [],
   "source": [
    "next_btn5 = driver.find_element_by_css_selector('#StepCtrlBtn04 > a:nth-child(2)')\n",
    "next_btn5.click()"
   ]
  },
  {
   "cell_type": "code",
   "execution_count": 287,
   "id": "66f54667",
   "metadata": {},
   "outputs": [],
   "source": [
    "pay_card = driver.find_element_by_id('rdoPays2')\n",
    "pay_card.click()\n",
    "pay_card = driver.find_element_by_id('cbxCancelFeeAgree')\n",
    "pay_card.click()\n",
    "pay_card = driver.find_element_by_id('chkinfoAgree')\n",
    "pay_card.click()"
   ]
  },
  {
   "cell_type": "code",
   "execution_count": 288,
   "id": "b873e42d",
   "metadata": {},
   "outputs": [],
   "source": [
    "pay_btn = driver.find_element_by_id('imgPayEnd')\n",
    "pay_btn.click()"
   ]
  }
 ],
 "metadata": {
  "kernelspec": {
   "display_name": "Python 3 (ipykernel)",
   "language": "python",
   "name": "python3"
  },
  "language_info": {
   "codemirror_mode": {
    "name": "ipython",
    "version": 3
   },
   "file_extension": ".py",
   "mimetype": "text/x-python",
   "name": "python",
   "nbconvert_exporter": "python",
   "pygments_lexer": "ipython3",
   "version": "3.9.6"
  }
 },
 "nbformat": 4,
 "nbformat_minor": 5
}
